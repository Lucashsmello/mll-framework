{
 "cells": [
  {
   "cell_type": "code",
   "execution_count": null,
   "metadata": {},
   "outputs": [],
   "source": [
    "import pandas as pd\n",
    "import numpy as np\n",
    "from ProbDistribution import ProbDistTree\n",
    "from metrics import SubsetLoss,HammingLoss, JaccardDistance, Fmeasure\n",
    "from mllmethods import classifier_chain, br, clr, LabelPowerset,dbr\n",
    "from tqdm import tqdm\n",
    "import ipywidgets as widgets\n",
    "from ipywidgets import interact\n",
    "import seaborn as sns\n",
    "import matplotlib.pyplot as plt"
   ]
  },
  {
   "cell_type": "markdown",
   "metadata": {},
   "source": [
    "# Experimental Setup"
   ]
  },
  {
   "cell_type": "code",
   "execution_count": null,
   "metadata": {},
   "outputs": [],
   "source": [
    "def jaccard_distance_optimizer(P):\n",
    "    solution, value = JaccardDistance().minrisk(P)\n",
    "    return solution\n",
    "\n",
    "def fmeasure_optimizer(P):\n",
    "    solution, value = Fmeasure().minrisk(P)\n",
    "    return solution\n",
    "\n",
    "\n",
    "# classifiers = {'CC':classifier_chain, 'BR':br, \"CLR\":clr, \n",
    "#                'PCC':LabelPowerset, 'JD-opt': jaccard_distance_optimizer, 'Fm-opt':fmeasure_optimizer}\n",
    "classifiers = {'CC':classifier_chain, 'BR':br, \"CLR\":clr, \n",
    "               'PCC':LabelPowerset, 'Fm-opt':fmeasure_optimizer, 'DBR':dbr}\n",
    "metrics = {'Subset 0/1 loss': SubsetLoss(), 'Hamming loss':HammingLoss(), \n",
    "           'F-measure':Fmeasure(), 'Jaccard distance': JaccardDistance()}\n",
    "# metrics = {'Subset 0/1 loss': SubsetLoss()}\n",
    "variables = ['Pid','k','classifier','metric','ld','dd','n','risk']\n",
    "\n",
    "ld_list=[0.1,0.2,0.3,0.4,0.5,0.6,0.7,0.8,0.9,0.025,0.05,0.99]\n",
    "dd_list=[0.05,0.45]\n",
    "n=12\n",
    "k=10000"
   ]
  },
  {
   "cell_type": "markdown",
   "metadata": {},
   "source": [
    "# Experimental loop"
   ]
  },
  {
   "cell_type": "code",
   "execution_count": null,
   "metadata": {
    "scrolled": false
   },
   "outputs": [],
   "source": [
    "from multiprocessing import Pool\n",
    "\n",
    "np.random.seed(1)\n",
    "\n",
    "\n",
    "\n",
    "def run_experiment(args):\n",
    "    i, ld,dd = args\n",
    "    Results_tmp = []\n",
    "    P = ProbDistTree.random(n, ld=ld,dd=dd)\n",
    "    for clf_name,clf in classifiers.items():\n",
    "        pred = clf(P)\n",
    "        for metric_name, metric in metrics.items():\n",
    "            r = metric.risk(pred,P)\n",
    "            Results_tmp.append((i,k,clf_name,metric_name,ld,dd,n,r))\n",
    "#     pbar.update()\n",
    "    return Results_tmp\n",
    "\n",
    "    \n",
    "def callback(res):\n",
    "    pbar.update()\n",
    "# Results = {clf_name:{metric_name:np.empty(k,dtype=float) for metric_name in metrics} for clf_name in classifiers}\n",
    "Results = []\n",
    "with tqdm(total=len(ld_list)*len(dd_list)*k) as pbar:\n",
    "    for ld in ld_list:\n",
    "        for dd in dd_list:\n",
    "            with Pool() as pool: # You can change the number of cpu cores used here: Ex: Pool(4)\n",
    "                pool_iterator = pool.imap(run_experiment, [(i, ld,dd) for i in range(k)])\n",
    "                for result in pool_iterator:\n",
    "                    Results+=result\n",
    "                    pbar.update()\n",
    "                \n",
    "R = pd.DataFrame(Results, columns=variables)\n",
    "Rg = R.groupby(['k','classifier','metric','ld','dd','n']).mean()\n",
    "R = Rg.reset_index()[['k','classifier','metric','ld','dd','n','risk']]\n",
    "R.to_csv('results/results.csv')"
   ]
  },
  {
   "cell_type": "markdown",
   "metadata": {},
   "source": [
    "# Visualize results"
   ]
  },
  {
   "cell_type": "code",
   "execution_count": null,
   "metadata": {},
   "outputs": [],
   "source": [
    "Rg = R.groupby(['ld','dd','metric','n','k'])[['risk']].min().rename({'risk':'minrisk'},axis=1)\n",
    "R = R.merge(Rg,on=['ld','dd','metric','n','k'])\n",
    "R['regret_relative'] = R['risk']/R['minrisk']\n",
    "R"
   ]
  },
  {
   "cell_type": "code",
   "execution_count": null,
   "metadata": {
    "scrolled": false
   },
   "outputs": [],
   "source": [
    "@interact(dd=widgets.Select(options=dd_list), \n",
    "          metric=widgets.Select(options=metrics.keys()))\n",
    "def plotLD(dd,metric):\n",
    "    mask = R['dd']==dd\n",
    "    mask &= R['metric']==metric\n",
    "    Rtmp = R[mask]\n",
    "    fig = plt.figure(figsize=(14,10), dpi=128)\n",
    "    sns.lineplot(data=Rtmp, x='ld',y='regret_relative',hue='classifier', marker='o',\n",
    "                 ax=fig.gca(), lw=2, markersize=10);\n",
    "    plt.ylim([0.99,1.45])"
   ]
  }
 ],
 "metadata": {
  "kernelspec": {
   "display_name": "mll-framework_env",
   "language": "python",
   "name": "mll-framework_env"
  },
  "language_info": {
   "codemirror_mode": {
    "name": "ipython",
    "version": 3
   },
   "file_extension": ".py",
   "mimetype": "text/x-python",
   "name": "python",
   "nbconvert_exporter": "python",
   "pygments_lexer": "ipython3",
   "version": "3.8.10"
  }
 },
 "nbformat": 4,
 "nbformat_minor": 4
}
